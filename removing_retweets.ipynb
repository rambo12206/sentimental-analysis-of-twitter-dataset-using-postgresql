{
 "cells": [
  {
   "cell_type": "code",
   "execution_count": 1,
   "metadata": {},
   "outputs": [
    {
     "name": "stdout",
     "output_type": "stream",
     "text": [
      "DELETE FROM TWEETS_TRUMP WHERE tweet_id IN (SELECT tweet_id FROM (SELECT tweet_id, ROW_NUMBER() OVER( PARTITION BY tweet_text ORDER BY  tweet_id ) AS row_num FROM TWEETS_TRUMP ) t WHERE t.row_num > 1 );\n",
      "Records removed from table\n"
     ]
    }
   ],
   "source": [
    "import psycopg2\n",
    "\n",
    "\n",
    "connection_rem = psycopg2.connect(user='postgres',\n",
    "                              password='122206',\n",
    "                              host='localhost',\n",
    "                              port='5432',\n",
    "                              database='TWITTERSENT')\n",
    "\n",
    "cursor_removeDup = connection_rem.cursor()\n",
    "\n",
    "\n",
    "removeDupSQL=\"DELETE FROM TWEETS_TRUMP WHERE tweet_id IN (SELECT tweet_id FROM (SELECT tweet_id, ROW_NUMBER() OVER( PARTITION BY tweet_text ORDER BY  tweet_id ) AS row_num FROM TWEETS_TRUMP ) t WHERE t.row_num > 1 );\"\n",
    "\n",
    "cursor_removeDup.execute(removeDupSQL)\n",
    "\n",
    "print(removeDupSQL)\n",
    "\n",
    "connection_rem.commit()\n",
    "\n",
    "print(\"Records removed from table\")\n",
    "\n",
    "cursor_removeDup.close()\n",
    "connection_rem.close()"
   ]
  },
  {
   "cell_type": "code",
   "execution_count": null,
   "metadata": {},
   "outputs": [],
   "source": []
  }
 ],
 "metadata": {
  "kernelspec": {
   "display_name": "Python 3",
   "language": "python",
   "name": "python3"
  },
  "language_info": {
   "codemirror_mode": {
    "name": "ipython",
    "version": 3
   },
   "file_extension": ".py",
   "mimetype": "text/x-python",
   "name": "python",
   "nbconvert_exporter": "python",
   "pygments_lexer": "ipython3",
   "version": "3.8.5"
  }
 },
 "nbformat": 4,
 "nbformat_minor": 4
}
